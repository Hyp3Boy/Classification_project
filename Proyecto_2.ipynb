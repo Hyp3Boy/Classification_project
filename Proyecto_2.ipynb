{
  "nbformat": 4,
  "nbformat_minor": 0,
  "metadata": {
    "colab": {
      "provenance": [],
      "collapsed_sections": [
        "Wgw-23UKHr69",
        "0gqy-vm4fEuN",
        "BpEnfsq4fJLk"
      ]
    },
    "kernelspec": {
      "name": "python3",
      "display_name": "Python 3"
    },
    "language_info": {
      "name": "python"
    }
  },
  "cells": [
    {
      "cell_type": "markdown",
      "source": [
        " # Proyecto 2\n",
        " ----\n",
        "  \n",
        "  Universidad : UTEC \\\\\n",
        "  Curso       : Machine Learning \\\\\n",
        "  Profesor    : Cristian López Del Alamo \\\\\n",
        "\n",
        " ----\n",
        "Participantes del equipo :\n",
        " - Participante 1: Renzo Acervo (100%)\n",
        " - Participante 2: Anthony Guimarey (100%)\n",
        " - Participante 3: Lenin Chavez (100%)\n",
        " ----\n",
        "\n",
        "\n",
        "  \n",
        "\n",
        "\n"
      ],
      "metadata": {
        "id": "JK_UAxY-G6DJ"
      }
    },
    {
      "cell_type": "markdown",
      "source": [
        "## Instalación y declaración de librerías"
      ],
      "metadata": {
        "id": "Wgw-23UKHr69"
      }
    },
    {
      "cell_type": "code",
      "execution_count": 338,
      "metadata": {
        "id": "6ynpP9bsh72n",
        "colab": {
          "base_uri": "https://localhost:8080/"
        },
        "outputId": "5f7f4dbd-f1c0-4e31-af5c-5a74a226f9c5"
      },
      "outputs": [
        {
          "output_type": "stream",
          "name": "stdout",
          "text": [
            "Requirement already satisfied: tsfresh in /usr/local/lib/python3.10/dist-packages (0.20.2)\n",
            "Requirement already satisfied: requests>=2.9.1 in /usr/local/lib/python3.10/dist-packages (from tsfresh) (2.31.0)\n",
            "Requirement already satisfied: numpy>=1.15.1 in /usr/local/lib/python3.10/dist-packages (from tsfresh) (1.25.2)\n",
            "Requirement already satisfied: pandas>=0.25.0 in /usr/local/lib/python3.10/dist-packages (from tsfresh) (2.0.3)\n",
            "Requirement already satisfied: scipy>=1.2.0 in /usr/local/lib/python3.10/dist-packages (from tsfresh) (1.11.4)\n",
            "Requirement already satisfied: statsmodels>=0.13 in /usr/local/lib/python3.10/dist-packages (from tsfresh) (0.14.2)\n",
            "Requirement already satisfied: patsy>=0.4.1 in /usr/local/lib/python3.10/dist-packages (from tsfresh) (0.5.6)\n",
            "Requirement already satisfied: scikit-learn>=0.22.0 in /usr/local/lib/python3.10/dist-packages (from tsfresh) (1.2.2)\n",
            "Requirement already satisfied: tqdm>=4.10.0 in /usr/local/lib/python3.10/dist-packages (from tsfresh) (4.66.4)\n",
            "Requirement already satisfied: stumpy>=1.7.2 in /usr/local/lib/python3.10/dist-packages (from tsfresh) (1.12.0)\n",
            "Requirement already satisfied: cloudpickle in /usr/local/lib/python3.10/dist-packages (from tsfresh) (2.2.1)\n",
            "Requirement already satisfied: python-dateutil>=2.8.2 in /usr/local/lib/python3.10/dist-packages (from pandas>=0.25.0->tsfresh) (2.8.2)\n",
            "Requirement already satisfied: pytz>=2020.1 in /usr/local/lib/python3.10/dist-packages (from pandas>=0.25.0->tsfresh) (2023.4)\n",
            "Requirement already satisfied: tzdata>=2022.1 in /usr/local/lib/python3.10/dist-packages (from pandas>=0.25.0->tsfresh) (2024.1)\n",
            "Requirement already satisfied: six in /usr/local/lib/python3.10/dist-packages (from patsy>=0.4.1->tsfresh) (1.16.0)\n",
            "Requirement already satisfied: charset-normalizer<4,>=2 in /usr/local/lib/python3.10/dist-packages (from requests>=2.9.1->tsfresh) (3.3.2)\n",
            "Requirement already satisfied: idna<4,>=2.5 in /usr/local/lib/python3.10/dist-packages (from requests>=2.9.1->tsfresh) (3.7)\n",
            "Requirement already satisfied: urllib3<3,>=1.21.1 in /usr/local/lib/python3.10/dist-packages (from requests>=2.9.1->tsfresh) (2.0.7)\n",
            "Requirement already satisfied: certifi>=2017.4.17 in /usr/local/lib/python3.10/dist-packages (from requests>=2.9.1->tsfresh) (2024.2.2)\n",
            "Requirement already satisfied: joblib>=1.1.1 in /usr/local/lib/python3.10/dist-packages (from scikit-learn>=0.22.0->tsfresh) (1.4.2)\n",
            "Requirement already satisfied: threadpoolctl>=2.0.0 in /usr/local/lib/python3.10/dist-packages (from scikit-learn>=0.22.0->tsfresh) (3.5.0)\n",
            "Requirement already satisfied: packaging>=21.3 in /usr/local/lib/python3.10/dist-packages (from statsmodels>=0.13->tsfresh) (24.0)\n",
            "Requirement already satisfied: numba>=0.55.2 in /usr/local/lib/python3.10/dist-packages (from stumpy>=1.7.2->tsfresh) (0.58.1)\n",
            "Requirement already satisfied: llvmlite<0.42,>=0.41.0dev0 in /usr/local/lib/python3.10/dist-packages (from numba>=0.55.2->stumpy>=1.7.2->tsfresh) (0.41.1)\n",
            "Drive already mounted at /content/drive/; to attempt to forcibly remount, call drive.mount(\"/content/drive/\", force_remount=True).\n"
          ]
        }
      ],
      "source": [
        "!pip install tsfresh\n",
        "\n",
        "import numpy as np\n",
        "import pandas as pd\n",
        "import h5py\n",
        "import seaborn as sns\n",
        "import matplotlib.pyplot as plt\n",
        "from collections import Counter\n",
        "from tsfresh import extract_features\n",
        "from tsfresh.feature_extraction.settings import EfficientFCParameters\n",
        "from sklearn.decomposition import PCA\n",
        "from sklearn.preprocessing import MinMaxScaler\n",
        "from sklearn.model_selection import train_test_split\n",
        "from sklearn.metrics import classification_report\n",
        "\n",
        "from google.colab import drive\n",
        "drive.mount('/content/drive/')\n",
        "path = '/content/drive/MyDrive/UTEC/ML/data_proyecto2/'"
      ]
    },
    {
      "cell_type": "markdown",
      "source": [
        "## Obtención del dataframe"
      ],
      "metadata": {
        "id": "b_kZvHh8IGhD"
      }
    },
    {
      "cell_type": "code",
      "source": [
        "f_train = h5py.File(f\"{path}/train.h5\", 'r')\n",
        "f_train.keys()"
      ],
      "metadata": {
        "colab": {
          "base_uri": "https://localhost:8080/"
        },
        "id": "pi-KdZJBMsrA",
        "outputId": "d62edeab-9d6c-460a-dbde-716aeaf4813a"
      },
      "execution_count": 339,
      "outputs": [
        {
          "output_type": "execute_result",
          "data": {
            "text/plain": [
              "<KeysViewHDF5 ['x', 'y']>"
            ]
          },
          "metadata": {},
          "execution_count": 339
        }
      ]
    },
    {
      "cell_type": "code",
      "source": [
        "X = f_train['x']\n",
        "x = np.array(X)\n",
        "x = x[:,0,:]\n",
        "Y = f_train['y']\n",
        "y = np.array(Y)\n",
        "\n",
        "f_test = h5py.File(f\"{path}/test.h5\", 'r')\n",
        "x_test = np.array(f_test['x'])\n",
        "x_test = x_test[:,0,:]\n",
        "print(x)\n",
        "\n",
        "both_x =np.concatenate((x, x_test), axis=0) # unimos andos dataframes para que el extractfeatures deje mismos features para ambos\n",
        "\n",
        "print(\"Tamaño de la data de entrenamiento:\",x.shape)\n",
        "print(\"Tamaño de la data de testeo:\",x_test.shape)\n",
        "print(\"Tamaño de la data junta:\", both_x.shape)\n",
        "print(both_x)"
      ],
      "metadata": {
        "id": "ssWxnv3hM1yN",
        "colab": {
          "base_uri": "https://localhost:8080/"
        },
        "outputId": "8c5480e8-104b-4612-bd04-c17c2e69b30c"
      },
      "execution_count": 340,
      "outputs": [
        {
          "output_type": "stream",
          "name": "stdout",
          "text": [
            "[[-5.859375e-03 -1.141357e-02 -1.077271e-02 ... -1.989746e-02\n",
            "  -2.163696e-02 -1.885986e-02]\n",
            " [ 2.380371e-03  5.126953e-03  5.737305e-03 ... -3.997803e-03\n",
            "  -5.981445e-03 -7.659912e-03]\n",
            " [ 5.807495e-02  1.220398e-01  1.083069e-01 ... -1.315308e-02\n",
            "  -1.412964e-02 -1.824951e-02]\n",
            " ...\n",
            " [ 1.516724e-02  3.179932e-02  2.697754e-02 ... -2.716064e-03\n",
            "  -8.239746e-04  3.051758e-04]\n",
            " [ 2.532959e-03  5.218506e-03  3.570557e-03 ... -3.692627e-03\n",
            "  -3.356934e-03 -3.479004e-03]\n",
            " [-2.990723e-03 -4.119873e-03  3.662109e-04 ... -6.103516e-05\n",
            "  -9.552002e-03 -1.931763e-02]]\n",
            "Tamaño de la data de entrenamiento: (204, 18530)\n",
            "Tamaño de la data de testeo: (205, 18530)\n",
            "Tamaño de la data junta: (409, 18530)\n",
            "[[-0.00585938 -0.01141357 -0.01077271 ... -0.01989746 -0.02163696\n",
            "  -0.01885986]\n",
            " [ 0.00238037  0.00512695  0.0057373  ... -0.0039978  -0.00598145\n",
            "  -0.00765991]\n",
            " [ 0.05807495  0.1220398   0.1083069  ... -0.01315308 -0.01412964\n",
            "  -0.01824951]\n",
            " ...\n",
            " [-0.00698852 -0.01312256 -0.01098633 ...  0.00238037  0.00170898\n",
            "   0.00210571]\n",
            " [ 0.0227356   0.04782104  0.04244995 ... -0.04647827 -0.04656982\n",
            "  -0.04998779]\n",
            " [ 0.01321411  0.02841187  0.0262146  ... -0.02212524 -0.02044678\n",
            "  -0.01904297]]\n"
          ]
        }
      ]
    },
    {
      "cell_type": "markdown",
      "source": [
        "### Formateamos el nuevo dataframe"
      ],
      "metadata": {
        "id": "Pb20YQt9Iv55"
      }
    },
    {
      "cell_type": "code",
      "source": [
        "# Crear un DataFrame con los datos originales\n",
        "df_x_original = pd.DataFrame(both_x)\n",
        "\n",
        "# Crear un DataFrame vacío para los datos reformateados\n",
        "df_x = pd.DataFrame()\n",
        "\n",
        "# Repetir el índice para cada id\n",
        "idx = np.repeat(np.arange(len(df_x_original)), len(df_x_original.columns))\n",
        "\n",
        "# Crear la columna 'id'\n",
        "df_x['id'] = idx\n",
        "\n",
        "# Crear la columna 'time'\n",
        "df_x['time'] = np.tile(np.arange(len(df_x_original.columns)), len(df_x_original))\n",
        "\n",
        "# Crear la columna 'voltage' con los valores de X\n",
        "df_x['val'] = df_x_original.values.flatten()\n",
        "\n",
        "# Mostrar las primeras filas del DataFrame reformateado\n",
        "print(df_x.head())\n",
        "print(df_x.shape)"
      ],
      "metadata": {
        "colab": {
          "base_uri": "https://localhost:8080/"
        },
        "id": "9ZHs8146NO93",
        "outputId": "3ddff50a-af25-4894-e293-78bcd3a74284"
      },
      "execution_count": 341,
      "outputs": [
        {
          "output_type": "stream",
          "name": "stdout",
          "text": [
            "   id  time       val\n",
            "0   0     0 -0.005859\n",
            "1   0     1 -0.011414\n",
            "2   0     2 -0.010773\n",
            "3   0     3 -0.010559\n",
            "4   0     4 -0.008850\n",
            "(7578770, 3)\n"
          ]
        }
      ]
    },
    {
      "cell_type": "markdown",
      "source": [
        "### Extraemos el dataframe con los features dados por TSfresh"
      ],
      "metadata": {
        "id": "uMsczVSyI4wD"
      }
    },
    {
      "cell_type": "code",
      "source": [
        "#extracted = extract_features(df_x, column_id = 'id', column_sort = 'time',  default_fc_parameters = EfficientFCParameters(), n_jobs=5)"
      ],
      "metadata": {
        "id": "gQ2j-KOKM-wf"
      },
      "execution_count": 342,
      "outputs": []
    },
    {
      "cell_type": "markdown",
      "source": [
        "### Guardamos en un csv lo extraído"
      ],
      "metadata": {
        "id": "bTCQGlloI_BF"
      }
    },
    {
      "cell_type": "code",
      "source": [
        "#extracted.head()\n",
        "#extracted.to_csv(f\"{path}/extracted_features.csv\", index=False)"
      ],
      "metadata": {
        "id": "3PbkR3YuB9Lp"
      },
      "execution_count": 343,
      "outputs": []
    },
    {
      "cell_type": "markdown",
      "source": [
        "### Separamos data de entrenamiento y testeo"
      ],
      "metadata": {
        "id": "Y6Sth0tMJFal"
      }
    },
    {
      "cell_type": "code",
      "source": [
        "extracted = pd.read_csv(f\"{path}/extracted_features.csv\")\n",
        "df_cleaned = extracted.dropna(axis=1)\n",
        "# Calcular el número de valores únicos en cada columna\n",
        "unique_counts = df_cleaned.nunique()\n",
        "\n",
        "# Identificar las columnas que tienen solo un valor único\n",
        "single_value_columns = unique_counts[unique_counts == 1].index\n",
        "\n",
        "# Eliminar esas columnas del DataFrame\n",
        "df_cleaned = df_cleaned.drop(columns=single_value_columns, inplace = False)\n",
        "\n",
        "df_cleaned.tail()\n",
        "df_cleaned = np.array(df_cleaned)\n",
        "\n",
        "pca = PCA(n_components=15)\n",
        "pca.fit(df_cleaned)\n",
        "df_cleaned = pca.transform(df_cleaned)\n",
        "\n",
        "#Obtener la varianza explicada por cada componente\n",
        "explained_variance = pca.explained_variance_ratio_\n",
        "\n",
        "# Calcular la varianza acumulativa\n",
        "cumulative_variance = np.cumsum(explained_variance)\n",
        "print(np.shape(explained_variance))\n",
        "# Crear el gráfico\n",
        "plt.figure(figsize=(8, 6))\n",
        "plt.plot(np.arange(0, 15), cumulative_variance[:15], marker='o', linestyle='-')\n",
        "plt.title('Gráfico de Varianza Acumulativa PCA')\n",
        "plt.xlabel('Número de Componentes Principales')\n",
        "plt.ylabel('Varianza Acumulativa Explicada')\n",
        "plt.grid(True)\n",
        "\n",
        "def normalizar(x):\n",
        "    max_values = x.max(axis=0)  # Obtener los máximos por columna\n",
        "    min_values = x.min(axis=0)  # Obtener los mínimos por columna\n",
        "    return (x - min_values) / (max_values - min_values)"
      ],
      "metadata": {
        "id": "Q_ArYaHtlKsr",
        "colab": {
          "base_uri": "https://localhost:8080/",
          "height": 583
        },
        "outputId": "1ab3b3a6-cf80-4faa-cf66-2db5cf066ed0"
      },
      "execution_count": 344,
      "outputs": [
        {
          "output_type": "stream",
          "name": "stdout",
          "text": [
            "(15,)\n"
          ]
        },
        {
          "output_type": "display_data",
          "data": {
            "text/plain": [
              "<Figure size 800x600 with 1 Axes>"
            ],
            "image/png": "[encoded data removed]"
          },
          "metadata": {}
        }
      ]
    },
    {
      "cell_type": "code",
      "source": [
        "df_train_cleaned = df_cleaned[0:204,:]\n",
        "df_test_cleaned = df_cleaned[204:,:]\n",
        "\n",
        "\n",
        "\n",
        "print(df_train_cleaned.shape)\n",
        "print(df_test_cleaned.shape)\n",
        "\n",
        "X_train, X_val, y_train, y_val = train_test_split(df_train_cleaned, y, test_size=0.2, random_state=12, stratify=y)"
      ],
      "metadata": {
        "colab": {
          "base_uri": "https://localhost:8080/"
        },
        "id": "MzLVGPMtlauK",
        "outputId": "9ad2c92f-a27b-49bf-ef96-b883a94936ec"
      },
      "execution_count": 345,
      "outputs": [
        {
          "output_type": "stream",
          "name": "stdout",
          "text": [
            "(204, 15)\n",
            "(205, 15)\n"
          ]
        }
      ]
    },
    {
      "cell_type": "markdown",
      "source": [
        "## Regresión Logística"
      ],
      "metadata": {
        "id": "sRRX940gJM-F"
      }
    },
    {
      "cell_type": "code",
      "source": [
        "class LogisticRegression:\n",
        "    def __init__(self, epsilon=0.00001):\n",
        "        self.epsilon = epsilon\n",
        "\n",
        "    def _h(self, x, w):\n",
        "        return np.dot(x, w)\n",
        "\n",
        "    def _sigmoid(self, x, w):\n",
        "        z = self._h(x, w)\n",
        "        z_clipped = np.clip(z, -500, 500)  # técnica clipping para evitar overflow\n",
        "        return 1 / (1 + np.exp(-z_clipped))\n",
        "\n",
        "    def _loss(self, y, y_approx):\n",
        "        y_approx[y_approx <= self.epsilon] = self.epsilon\n",
        "        y_approx[y_approx >= 1 - self.epsilon] = 1 - self.epsilon\n",
        "\n",
        "        loss = y * np.log10(y_approx) + (1 - y) * np.log10(1 - y_approx)\n",
        "        return -1 * loss.sum() / len(y)\n",
        "\n",
        "    def _derivatives(self, x, y, w):\n",
        "        return np.matmul(y - self._sigmoid(x, w), -x) / len(y)\n",
        "\n",
        "    def _change_parameters(self, w, derivatives, alpha):\n",
        "        return w - alpha * derivatives\n",
        "\n",
        "    def _initialize_weights(self, n_features):\n",
        "        np.random.seed(12)\n",
        "        return np.array([np.random.rand() for _ in range(n_features)])\n",
        "\n",
        "    def train(self, x, y, epochs=100, alpha=0.01):\n",
        "        n_features = x.shape[1]\n",
        "        w = self._initialize_weights(n_features)\n",
        "        losses = []\n",
        "\n",
        "        for _ in range(epochs):\n",
        "            loss = self._loss(y, self._sigmoid(x, w))\n",
        "            derivatives = self._derivatives(x, y, w)\n",
        "            w = self._change_parameters(w, derivatives, alpha)\n",
        "            losses.append(loss)\n",
        "\n",
        "        return losses, w\n",
        "\n",
        "    def test(self, x_test, y_test, w):\n",
        "        n = len(y_test)\n",
        "        y_pred = np.round(self._sigmoid(x_test, w))\n",
        "        matches = np.sum(y_pred == y_test)\n",
        "        accuracy = matches / n\n",
        "        print(\"Number of correct data: \", matches, \" out of \", n)\n",
        "        print(\"Accuracy: \", accuracy)\n",
        "        return accuracy\n",
        "\n",
        "    def predict(self, x_test, w):\n",
        "        return np.round(self._sigmoid(x_test, w))"
      ],
      "metadata": {
        "id": "Ebf_EoeiOEaV"
      },
      "execution_count": 367,
      "outputs": []
    },
    {
      "cell_type": "markdown",
      "source": [
        "### Entrenamiento"
      ],
      "metadata": {
        "id": "0xYpqO04JWmX"
      }
    },
    {
      "cell_type": "code",
      "source": [
        "model = LogisticRegression()\n",
        "\n",
        "epochs = 10000\n",
        "\n",
        "x_norm = X_train\n",
        "ones_column = np.ones((x_norm.shape[0], 1))\n",
        "x_norm_log = np.hstack((ones_column, x_norm))\n",
        "\n",
        "# Entrenamiento\n",
        "L, W = model.train(x_norm_log, y_train, epochs=epochs, alpha=0.005)\n",
        "\n",
        "x_val_norm = X_val\n",
        "\n",
        "ones_column_val = np.ones((x_val_norm.shape[0], 1))\n",
        "x_val_norm_log = np.hstack((ones_column_val, x_val_norm))\n",
        "y_val_log = model.predict(x_val_norm_log, W)\n",
        "\n",
        "print(\"Real: \",y_val)\n",
        "print(\"Predicho: \",y_val_log)\n",
        "count_ones = np.sum(y_val_log == 1)\n",
        "\n",
        "\n",
        "print(\"Number of ones:\", count_ones)\n",
        "\n",
        "print(classification_report(y_val,y_val_log ))"
      ],
      "metadata": {
        "colab": {
          "base_uri": "https://localhost:8080/"
        },
        "id": "5lBnQgt3m8P4",
        "outputId": "0a405064-c3c4-4270-8a49-fb9b11c2b69e"
      },
      "execution_count": 368,
      "outputs": [
        {
          "output_type": "stream",
          "name": "stdout",
          "text": [
            "Real:  [0 0 1 0 0 0 0 0 0 0 0 1 1 0 0 0 0 0 0 0 0 1 1 1 0 0 0 1 1 0 1 1 0 0 0 0 0\n",
            " 0 0 0 1]\n",
            "Predicho:  [0. 0. 1. 1. 1. 1. 0. 0. 1. 0. 1. 1. 0. 0. 1. 0. 1. 0. 1. 1. 1. 1. 0. 1.\n",
            " 1. 1. 1. 0. 1. 1. 1. 1. 0. 0. 0. 0. 0. 1. 0. 0. 1.]\n",
            "Number of ones: 23\n",
            "              precision    recall  f1-score   support\n",
            "\n",
            "           0       0.83      0.50      0.62        30\n",
            "           1       0.35      0.73      0.47        11\n",
            "\n",
            "    accuracy                           0.56        41\n",
            "   macro avg       0.59      0.61      0.55        41\n",
            "weighted avg       0.70      0.56      0.58        41\n",
            "\n"
          ]
        }
      ]
    },
    {
      "cell_type": "markdown",
      "source": [
        "### Predicciones"
      ],
      "metadata": {
        "id": "6K1uX1vkJYpf"
      }
    },
    {
      "cell_type": "code",
      "source": [
        "test_norm = normalizar(df_test_cleaned)\n",
        "\n",
        "ones_column_test = np.ones((test_norm.shape[0], 1))\n",
        "x_test_norm_log = np.hstack((ones_column_test, test_norm))\n",
        "y_pred_log = model.predict(x_test_norm_log, W)\n",
        "print(y_pred_log)\n",
        "result_csv = pd.DataFrame(y_pred_log)\n",
        "result_csv = result_csv.reset_index()\n",
        "result_csv['index'] += 1\n",
        "\n",
        "result_csv.rename(columns={'index': 'ID', 0: '# result'}, inplace=True)\n",
        "result_csv.to_csv(f\"{path}/results_log.csv\", index=False)"
      ],
      "metadata": {
        "colab": {
          "base_uri": "https://localhost:8080/"
        },
        "id": "ti6YTNFMFdZy",
        "outputId": "c413f2ad-e639-4525-bb66-6c9f0ef77683"
      },
      "execution_count": 369,
      "outputs": [
        {
          "output_type": "stream",
          "name": "stdout",
          "text": [
            "[1. 1. 1. 1. 1. 1. 1. 1. 0. 1. 1. 1. 1. 1. 1. 0. 0. 1. 0. 1. 1. 1. 1. 1.\n",
            " 1. 1. 1. 1. 1. 1. 1. 1. 1. 1. 1. 1. 1. 0. 1. 1. 0. 1. 1. 1. 0. 0. 1. 1.\n",
            " 1. 1. 1. 1. 1. 0. 1. 1. 1. 1. 1. 1. 1. 1. 1. 1. 1. 0. 1. 1. 1. 1. 1. 1.\n",
            " 0. 0. 0. 1. 1. 0. 1. 1. 1. 1. 1. 1. 1. 1. 1. 1. 1. 1. 1. 1. 0. 0. 1. 1.\n",
            " 1. 1. 1. 0. 1. 1. 1. 1. 1. 1. 1. 1. 1. 1. 1. 1. 1. 1. 1. 1. 1. 1. 1. 1.\n",
            " 1. 1. 1. 1. 1. 1. 0. 1. 1. 1. 1. 1. 1. 1. 0. 1. 0. 1. 1. 1. 1. 1. 1. 1.\n",
            " 1. 1. 0. 1. 1. 1. 1. 1. 1. 0. 0. 0. 1. 1. 1. 1. 0. 1. 0. 1. 1. 0. 1. 1.\n",
            " 0. 1. 1. 1. 0. 1. 1. 1. 1. 1. 1. 0. 0. 1. 1. 1. 1. 1. 1. 1. 1. 1. 1. 0.\n",
            " 1. 1. 1. 1. 0. 1. 1. 1. 1. 1. 1. 1. 1.]\n"
          ]
        }
      ]
    },
    {
      "cell_type": "markdown",
      "source": [
        "## Árbol de decisión"
      ],
      "metadata": {
        "id": "PmWj6z19JkiO"
      }
    },
    {
      "cell_type": "markdown",
      "source": [
        "Modificación a partir del código de Patrick Loeber:  [Github](https://github.com/python-engineer/MLfromscratch)"
      ],
      "metadata": {
        "id": "k2dOdSlA97oQ"
      }
    },
    {
      "cell_type": "code",
      "source": [
        "class Node:\n",
        "    def __init__(self, feature=None, threshold=None, left=None, right=None, *, value=None):\n",
        "        self.feature = feature\n",
        "        self.threshold = threshold\n",
        "        self.left = left\n",
        "        self.right = right\n",
        "        self.value = value\n",
        "\n",
        "    def is_leaf_node(self):\n",
        "        return self.value is not None # nodo hoja tiene value\n",
        "\n",
        "\n",
        "class DTree:\n",
        "    def __init__(self, min_samples=2, max_depth=1000, n_features=None,criterion = \"entropy\"):\n",
        "        self.min_samples = min_samples\n",
        "        self.max_depth = max_depth\n",
        "        self.n_features = n_features\n",
        "        self.root = None\n",
        "        self.criterion = criterion\n",
        "\n",
        "    def fit(self, X, y):\n",
        "        self.n_features = X.shape[1] if not self.n_features else min(X.shape[1], self.n_features)\n",
        "        np.random.seed(2)\n",
        "        self.root = self.create_tree(X, y)\n",
        "\n",
        "    def create_tree(self, X, y, depth=0):\n",
        "        num_samples, num_features = X.shape # filas, columnas\n",
        "        num_labels = len(np.unique(y)) # cantidad de clases\n",
        "\n",
        "        if depth >= self.max_depth or num_labels == 1 or num_samples < self.min_samples: # condicion de parada\n",
        "            leaf_value = self.label_chosen(y) #asignamos valor al nodo al label que se repita más\n",
        "            return Node(value=leaf_value) # retornamos el nodo con su valor\n",
        "\n",
        "        feature_indices = np.random.choice(num_features, self.n_features, replace=False) # elegimos num de features que queramos usar, si es none al crear el dt\n",
        "        # usamos todos los features y al azar\n",
        "        best_feature, best_threshold = self.best_split(X, y, feature_indices) #best split nos devuelve el mejor feature que debemos usar junto con el rango\n",
        "\n",
        "        left_indices, right_indices = self.split(X[:, best_feature], best_threshold) # separamos la data segun el threshold\n",
        "        left = self.create_tree(X[left_indices, :], y[left_indices], depth + 1) # creamos cada subarbol\n",
        "        right = self.create_tree(X[right_indices, :], y[right_indices], depth + 1)\n",
        "        return Node(feature=best_feature, threshold=best_threshold, left=left, right=right) # devolvemos nuestro arbol ya creado\n",
        "\n",
        "    def best_split(self, X, y, feature_indices):\n",
        "        best_gain = -1\n",
        "        split_index, split_threshold = None, None\n",
        "\n",
        "        for feature_index in feature_indices: # por cada feature iteramos\n",
        "            X_column = X[:, feature_index] # todas las tuplas con el feature seleccionado\n",
        "            thresholds = np.unique(X_column) # todos los threshold que probaremos que serán todos los valores únicos en el threshold\n",
        "\n",
        "            for threshold in thresholds: # por cada valor único\n",
        "                gain = self.information_gain(y, X_column, threshold) #obtenemos la ganancia utilizando ese limite\n",
        "\n",
        "                if gain > best_gain: # si es mejor pues nos conviene más que los parámetros que ya estaban seleccionados\n",
        "                    best_gain = gain\n",
        "                    split_index = feature_index\n",
        "                    split_threshold = threshold\n",
        "\n",
        "        return split_index, split_threshold # devolvemos el mejor feature donde se debe partir y cual es el limite que se escogió\n",
        "\n",
        "    def information_gain(self, y, X_column, threshold): # Ganancia de información de cada nodo\n",
        "\n",
        "\n",
        "        left_indices, right_indices = self.split(X_column, threshold)\n",
        "\n",
        "        if len(left_indices) == 0 or len(right_indices) == 0:\n",
        "            return 0\n",
        "\n",
        "        num_samples = len(y)\n",
        "        num_left, num_right = len(left_indices), len(right_indices)\n",
        "\n",
        "        # Elegiremos según el criterio\n",
        "\n",
        "        if self.criterion == \"entropy\":\n",
        "            parent_entropy = self.entropy(y)\n",
        "            entropy_left, entropy_right = self.entropy(y[left_indices]), self.entropy(y[right_indices])\n",
        "            child_entropy = (num_left / num_samples) * entropy_left + (num_right / num_samples) * entropy_right\n",
        "\n",
        "            information_gain = parent_entropy - child_entropy # formula de inf_gain\n",
        "            return information_gain\n",
        "        if self.criterion == \"gini\":\n",
        "            parent_gini = self.gini(y)\n",
        "            gini_left, gini_right = self.gini(y[left_indices]), self.gini(y[right_indices])\n",
        "            child_gini = (num_left / num_samples) * gini_left + (num_right / num_samples) * gini_right\n",
        "\n",
        "            information_gain = parent_gini - child_gini #formula de inf_gain\n",
        "            return information_gain\n",
        "\n",
        "    def split(self, X_column, split_threshold):\n",
        "        left_indices = np.argwhere(X_column <= split_threshold).flatten() #vector fila\n",
        "        right_indices = np.argwhere(X_column > split_threshold).flatten() #vector fila\n",
        "        return left_indices, right_indices\n",
        "\n",
        "    def gini(self,y):\n",
        "        probabilities = np.bincount(y)/ len(y) # frecuencia / # total de elementos de ambas clases\n",
        "        return 1 - np.sum([p**2 for p in probabilities if p > 0])\n",
        "\n",
        "    def entropy(self, y):\n",
        "        probabilities = np.bincount(y) / len(y) # frecuencia / # total de elementos de ambas clases\n",
        "        return -np.sum([p * np.log(p) for p in probabilities if p > 0])\n",
        "\n",
        "    def label_chosen(self, y): # elegir label para el nodo\n",
        "        labels, counts = np.unique(y, return_counts=True)\n",
        "        most_common = labels[np.argmax(counts)]\n",
        "        return most_common\n",
        "\n",
        "    def predict(self, X):\n",
        "        return np.array([self.return_node_value(x, self.root) for x in X])\n",
        "\n",
        "    def return_node_value(self, x, node): # recorrer árbol para el resultado\n",
        "        if node.is_leaf_node():\n",
        "            return node.value\n",
        "\n",
        "        if x[node.feature] <= node.threshold:\n",
        "            return self.return_node_value(x, node.left)\n",
        "        return self.return_node_value(x, node.right)\n"
      ],
      "metadata": {
        "id": "9dhaIJJmBa7z"
      },
      "execution_count": 349,
      "outputs": []
    },
    {
      "cell_type": "markdown",
      "source": [
        "### Entrenamiento"
      ],
      "metadata": {
        "id": "2W0fYYH_JuCH"
      }
    },
    {
      "cell_type": "code",
      "source": [
        "clf = DTree(max_depth=50, criterion = \"gini\")\n",
        "clf.fit(X_train, y_train)\n",
        "y_val_DT = clf.predict(X_val)\n",
        "\n",
        "print(\"Real: \",y_val)\n",
        "print(\"Predicho: \",y_val_DT)\n",
        "count_ones = np.sum(y_val_DT == 1)\n",
        "\n",
        "print(\"Number of ones:\", count_ones)\n",
        "\n",
        "print(classification_report(y_val,y_val_DT ))"
      ],
      "metadata": {
        "id": "KP6Eg6Kl5uqZ",
        "colab": {
          "base_uri": "https://localhost:8080/"
        },
        "outputId": "3ea079f6-036e-400b-f1c5-c4223b5cb827"
      },
      "execution_count": 359,
      "outputs": [
        {
          "output_type": "stream",
          "name": "stdout",
          "text": [
            "Real:  [0 0 1 0 0 0 0 0 0 0 0 1 1 0 0 0 0 0 0 0 0 1 1 1 0 0 0 1 1 0 1 1 0 0 0 0 0\n",
            " 0 0 0 1]\n",
            "Predicho:  [0 0 0 0 0 1 1 0 0 0 0 0 0 1 0 0 0 0 0 0 0 0 0 0 0 1 1 1 1 0 0 1 0 0 0 0 1\n",
            " 0 0 0 1]\n",
            "Number of ones: 10\n",
            "              precision    recall  f1-score   support\n",
            "\n",
            "           0       0.77      0.80      0.79        30\n",
            "           1       0.40      0.36      0.38        11\n",
            "\n",
            "    accuracy                           0.68        41\n",
            "   macro avg       0.59      0.58      0.58        41\n",
            "weighted avg       0.67      0.68      0.68        41\n",
            "\n"
          ]
        }
      ]
    },
    {
      "cell_type": "markdown",
      "source": [
        "### Predicciones"
      ],
      "metadata": {
        "id": "xhwXSgQTJ00C"
      }
    },
    {
      "cell_type": "code",
      "source": [
        "y_pred_DT = clf.predict(df_test_cleaned)\n",
        "print(y_pred_DT)"
      ],
      "metadata": {
        "id": "_YELQIO772wF",
        "colab": {
          "base_uri": "https://localhost:8080/"
        },
        "outputId": "9c25d9bb-d710-42b1-ae26-01d9b31fb77f"
      },
      "execution_count": 360,
      "outputs": [
        {
          "output_type": "stream",
          "name": "stdout",
          "text": [
            "[1 1 1 0 1 1 0 1 0 1 1 1 0 0 0 0 0 0 0 0 0 0 0 0 0 1 1 0 1 1 0 0 0 0 1 1 1\n",
            " 0 0 0 0 0 1 0 0 0 1 0 1 0 0 0 1 0 0 0 0 0 1 1 1 0 0 0 1 0 0 0 0 0 1 0 0 0\n",
            " 0 0 1 0 0 0 0 0 0 1 0 0 1 1 0 0 1 0 0 0 1 1 1 0 1 0 0 0 1 0 0 0 0 0 0 1 1\n",
            " 0 0 1 0 0 0 1 0 1 1 1 1 1 0 0 0 1 1 0 0 0 0 1 0 0 0 0 1 1 0 0 0 1 0 0 0 1\n",
            " 1 1 0 0 0 0 0 0 0 0 0 0 0 0 0 1 0 0 1 0 0 0 0 1 0 1 1 0 1 0 0 0 1 0 0 1 0\n",
            " 0 1 0 1 0 1 0 0 0 0 1 0 0 0 0 0 0 1 1 0]\n"
          ]
        }
      ]
    },
    {
      "cell_type": "code",
      "source": [
        "clf = DTree(max_depth=10, criterion = \"gini\")\n",
        "clf.fit(df_train_cleaned, y)\n",
        "y_pred_DT = clf.predict(df_test_cleaned)\n",
        "print(y_pred_DT)\n",
        "result_csv = pd.DataFrame(y_pred_DT)\n",
        "result_csv = result_csv.reset_index()\n",
        "result_csv['index'] += 1\n",
        "\n",
        "result_csv.rename(columns={'index': 'ID', 0: '# result'}, inplace=True)\n",
        "result_csv.to_csv(f\"{path}/results_dtree.csv\", index=False)"
      ],
      "metadata": {
        "colab": {
          "base_uri": "https://localhost:8080/"
        },
        "id": "YWo7imOR3vg-",
        "outputId": "b82d1d08-2dfa-490f-9188-6784e220d817"
      },
      "execution_count": 374,
      "outputs": [
        {
          "output_type": "stream",
          "name": "stdout",
          "text": [
            "[1 0 1 0 0 0 0 1 0 0 0 1 1 0 0 0 0 1 0 0 1 0 0 0 0 1 1 1 0 1 0 1 1 0 1 1 0\n",
            " 0 0 0 0 1 0 0 0 0 0 1 1 0 0 1 1 0 0 0 0 0 1 1 1 0 0 0 1 0 0 0 0 0 0 0 0 0\n",
            " 0 0 1 0 0 1 0 0 0 1 1 0 1 0 0 0 0 0 0 0 1 0 1 1 0 0 0 0 0 0 1 0 0 0 0 1 0\n",
            " 1 0 0 0 1 0 1 1 1 1 1 1 0 0 0 0 1 1 0 0 0 0 1 0 0 0 0 1 0 0 0 0 0 0 0 0 1\n",
            " 0 1 0 1 1 0 0 0 0 0 0 1 0 0 0 0 0 0 1 1 0 0 0 1 1 0 1 1 1 0 0 0 0 0 0 1 0\n",
            " 1 1 1 1 0 0 0 0 0 0 1 0 0 0 0 0 0 1 1 0]\n"
          ]
        }
      ]
    },
    {
      "cell_type": "markdown",
      "source": [
        "## SVM\n"
      ],
      "metadata": {
        "id": "Wghqo89SL1aW"
      }
    },
    {
      "cell_type": "code",
      "source": [
        "class SVM:\n",
        "    def h(self,X,w,b):\n",
        "        return np.dot(X,w.T) + b\n",
        "\n",
        "    def loss(self,w,y,y_aprox,C):\n",
        "        margin_err = 1/2 * (np.linalg.norm(w) **2)\n",
        "        class_err = C * np.sum(np.maximum(0,1 - y * y_aprox))\n",
        "        L = margin_err + class_err\n",
        "        return L\n",
        "\n",
        "    def derivatives(self,x, y, y_aprox, w, b, C):\n",
        "    # Calcular la matriz de pérdida suavizada\n",
        "        loss_matrix = 1 - y * y_aprox\n",
        "\n",
        "    # Aplicar la función de pérdida suavizada\n",
        "        hinge_loss = np.maximum(0, loss_matrix)\n",
        "    # Calcular el gradiente de la función de pérdida suavizada con respecto a w\n",
        "        dw = w + C * np.sum(-y[:, np.newaxis] * x * (hinge_loss > 0)[:, np.newaxis], axis=0)\n",
        "\n",
        "    # Calcular el gradiente de la función de pérdida suavizada con respecto a b\n",
        "        db = C * np.sum(-y * (hinge_loss > 0))\n",
        "\n",
        "        return db, dw\n",
        "\n",
        "    def Update(self,y,y_aprox,w, b, db, dw, alpha,C):\n",
        "        w = w - alpha * dw\n",
        "        b = b - alpha * db\n",
        "        return w, b\n",
        "\n",
        "    def training(self, X, Y, C=1, alpha=1e-8, epochs=10000):\n",
        "        np.random.seed(12)\n",
        "        w = np.array([np.random.rand() for i in range(X.shape[1])])\n",
        "        b = np.random.rand()\n",
        "        error = []\n",
        "        for i in range(epochs):\n",
        "            Y_aprox = self.h(X,w,b)\n",
        "        db, dw = self.derivatives(X, Y,Y_aprox, w, b, C)\n",
        "        w, b = self.Update(Y,Y_aprox,w, b, db, dw, alpha,C)\n",
        "        L = self.loss(w,Y,Y_aprox,C)\n",
        "        error.append(L)\n",
        "        return w, b, error\n",
        "\n",
        "    def predict(self,X,W,b):\n",
        "      y_aprox = []\n",
        "  # write your code here\n",
        "      for i in range(X.shape[0]):\n",
        "          y_aprox.append(np.sign(self.h(X[i],W,b)))\n",
        "      return np.array(y_aprox)"
      ],
      "metadata": {
        "id": "xg8qlsRtNs5s"
      },
      "execution_count": 352,
      "outputs": []
    },
    {
      "cell_type": "markdown",
      "source": [
        "### Entrenamiento"
      ],
      "metadata": {
        "id": "0gqy-vm4fEuN"
      }
    },
    {
      "cell_type": "code",
      "source": [
        "y_svm_train = np.where(y_train==0,-1,y_train)\n",
        "\n",
        "svm = SVM()\n",
        "\n",
        "w, b, error = svm.training(X_train,y_svm_train)\n",
        "\n",
        "x_val_norm = normalizar(X_val)\n",
        "y_val_svm = svm.predict(X_val,w,b)\n",
        "y_val_svm = np.where(y_val_svm==-1,0,y_val_svm)\n",
        "\n",
        "print(\"Real: \",y_val)\n",
        "print(\"Predicho: \",y_val_svm) # mejor con c = 0.5\n",
        "count_ones = np.sum(y_val_svm == 1)\n",
        "\n",
        "print(\"Number of ones:\", count_ones)\n",
        "\n",
        "print(classification_report(y_val,y_val_svm ))"
      ],
      "metadata": {
        "colab": {
          "base_uri": "https://localhost:8080/"
        },
        "id": "08F7HvwpPlGJ",
        "outputId": "3c64ef79-8166-4711-93e8-4296ef9e4e3c"
      },
      "execution_count": 353,
      "outputs": [
        {
          "output_type": "stream",
          "name": "stdout",
          "text": [
            "Real:  [0 0 1 0 0 0 0 0 0 0 0 1 1 0 0 0 0 0 0 0 0 1 1 1 0 0 0 1 1 0 1 1 0 0 0 0 0\n",
            " 0 0 0 1]\n",
            "Predicho:  [0. 0. 1. 1. 1. 1. 0. 0. 1. 0. 1. 1. 0. 0. 1. 0. 1. 0. 1. 1. 1. 1. 0. 1.\n",
            " 1. 1. 1. 0. 1. 1. 1. 1. 0. 0. 0. 0. 0. 1. 0. 0. 1.]\n",
            "Number of ones: 23\n",
            "              precision    recall  f1-score   support\n",
            "\n",
            "           0       0.83      0.50      0.62        30\n",
            "           1       0.35      0.73      0.47        11\n",
            "\n",
            "    accuracy                           0.56        41\n",
            "   macro avg       0.59      0.61      0.55        41\n",
            "weighted avg       0.70      0.56      0.58        41\n",
            "\n"
          ]
        }
      ]
    },
    {
      "cell_type": "markdown",
      "source": [
        "### Predicciones"
      ],
      "metadata": {
        "id": "BpEnfsq4fJLk"
      }
    },
    {
      "cell_type": "code",
      "source": [
        "y_pred_svm = svm.predict(df_test_cleaned,w,b)\n",
        "y_pred_svm = np.where(y_pred_svm==-1,0,y_pred_svm)\n",
        "print(y_pred_svm)\n",
        "result_csv = pd.DataFrame(y_pred_svm)\n",
        "result_csv = result_csv.reset_index()\n",
        "result_csv['index'] += 1\n",
        "\n",
        "result_csv.rename(columns={'index': 'ID', 0: '# result'}, inplace=True)\n",
        "result_csv.to_csv(f\"{path}/results_svm.csv\", index=False)"
      ],
      "metadata": {
        "colab": {
          "base_uri": "https://localhost:8080/"
        },
        "id": "Fd8Frc2xYua4",
        "outputId": "5ba525d6-98ae-480d-f006-6e232eb4a5f7"
      },
      "execution_count": 354,
      "outputs": [
        {
          "output_type": "stream",
          "name": "stdout",
          "text": [
            "[1. 0. 1. 0. 1. 0. 1. 0. 1. 1. 1. 1. 1. 1. 0. 1. 1. 1. 0. 1. 1. 1. 1. 0.\n",
            " 1. 1. 1. 1. 1. 1. 0. 1. 1. 1. 0. 1. 0. 1. 0. 1. 0. 0. 0. 0. 0. 0. 1. 1.\n",
            " 1. 0. 1. 1. 1. 0. 1. 1. 0. 0. 1. 1. 0. 0. 1. 1. 1. 0. 1. 1. 0. 0. 1. 1.\n",
            " 0. 0. 1. 1. 1. 0. 0. 1. 1. 1. 1. 1. 1. 1. 1. 1. 1. 1. 1. 1. 1. 1. 1. 1.\n",
            " 1. 1. 0. 1. 1. 0. 0. 1. 1. 1. 0. 1. 1. 1. 0. 1. 0. 1. 0. 0. 1. 1. 1. 1.\n",
            " 1. 1. 1. 1. 0. 1. 0. 0. 1. 1. 1. 1. 1. 1. 1. 0. 1. 1. 1. 1. 0. 1. 0. 0.\n",
            " 1. 1. 0. 1. 1. 1. 0. 1. 1. 0. 0. 1. 0. 1. 0. 1. 1. 0. 1. 0. 1. 0. 1. 1.\n",
            " 0. 1. 0. 1. 0. 0. 1. 1. 1. 1. 0. 0. 1. 1. 1. 1. 1. 1. 1. 1. 1. 1. 1. 0.\n",
            " 1. 0. 1. 1. 0. 1. 0. 1. 0. 0. 0. 1. 0.]\n"
          ]
        }
      ]
    },
    {
      "cell_type": "markdown",
      "source": [
        "## Conclusión\n",
        "Es importante mencionar que al final del proyecto lo que nos dió mejor resultado a la hora de subir a kaggle fue el árbol de decisión con gini y max_depth 10, el segundo mejor gini y max_depth 5, ambos entrenados con toda la data de entrenamiento sin usar data de validación, si partimos como en este caso para la presentación mostrando los reportes de clasificación, nos da menos score en el kaggle. SVM y logística predicen demasiadas tuplas como pertenecientes a la clase 1, creemos que es debido a que en svm no hacemos uso de algún kernel como polinomial o rbf, en cuanto a la regresión logística es posible que se deba a que la mayoría de tuplas no se puedan separar bien haciendo uso de una función sigmoide. Una limitación importante es la cantidad de tuplas que tenemos para la data de entrenamiento ya que al ser pocas nuestro modelo no tiene ambas clases bien representadas, tenemos más 0's que 1's, además puede que nuestros modelos esten siendo más susceptibles al ruido ya que como son menos tuplas cada una tiene un mayor peso a la hora de clasificar."
      ],
      "metadata": {
        "id": "D8L7eUhcpzTp"
      }
    }
  ]
}